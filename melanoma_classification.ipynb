{
 "cells": [
  {
   "cell_type": "code",
   "execution_count": 1,
   "metadata": {
    "collapsed": false
   },
   "outputs": [],
   "source": [
    "import cv2\n",
    "import tensorflow as tf\n",
    "import tflearn\n",
    "import matplotlib.pyplot as plt\n",
    "from tflearn.layers.conv import conv_2d, max_pool_2d\n",
    "from tflearn.layers.core import input_data, dropout, fully_connected\n",
    "from tflearn.layers.estimator import regression\n",
    "from random import shuffle\n",
    "import numpy as np\n",
    "from tqdm import tqdm\n",
    "from sklearn.metrics import confusion_matrix\n",
    "import os\n"
   ]
  },
  {
   "cell_type": "code",
   "execution_count": 6,
   "metadata": {
    "collapsed": true
   },
   "outputs": [],
   "source": [
    "image_size = 50\n",
    "LR = 1e-3\n",
    "train_path = 'home/kushalgbk/Desktop/acad/ai-asg2/images/train'\n",
    "test_path = 'home/kushalgbk/Desktop/acad/ai-asg2/images/test'\n",
    "modelNAME = 'skin_cancer-{}-{}.model'.format(LR, '2conv-basic')"
   ]
  },
  {
   "cell_type": "code",
   "execution_count": 7,
   "metadata": {
    "collapsed": true
   },
   "outputs": [],
   "source": [
    "def categorise_images(img):\n",
    "    word = img.split('.')[-3]\n",
    "    if word == 'mal':\n",
    "        return [0,1]\n",
    "    elif word == 'beg':\n",
    "        return [1,0]\n"
   ]
  },
  {
   "cell_type": "code",
   "execution_count": 8,
   "metadata": {
    "collapsed": false
   },
   "outputs": [
    {
     "name": "stderr",
     "output_type": "stream",
     "text": [
      "100%|██████████████████████████████████████| 2000/2000 [06:22<00:00,  5.23it/s]\n"
     ]
    }
   ],
   "source": [
    "def get_resized_image(path):\n",
    "    img = cv2.imread(path,cv2.IMREAD_GRAYSCALE)\n",
    "    img = cv2.resize(img, (image_size,image_size))\n",
    "    return img\n",
    "\n",
    "\n",
    "def get_train_data():\n",
    "    training_data = []\n",
    "    for img in tqdm(os.listdir(train_path)):\n",
    "        category = categorise_images(img)\n",
    "        path = os.path.join(train_path,img)\n",
    "        img = get_resized_image(path)\n",
    "        training_data.append([np.array(img),np.array(category)])\n",
    "    shuffle(training_data)\n",
    "    np.save('train_data.npy', training_data)\n",
    "    return training_data\n",
    "\n",
    "train_data = get_train_data()"
   ]
  },
  {
   "cell_type": "code",
   "execution_count": 9,
   "metadata": {
    "collapsed": true
   },
   "outputs": [],
   "source": [
    "def get_test_data():\n",
    "    testing_data = []\n",
    "    for img in tqdm(os.listdir(test_path)):\n",
    "        path = os.path.join(test_path,img)\n",
    "        img_number = img.split('.')[0]\n",
    "        img = get_resized_image(path)\n",
    "        testing_data.append([np.array(img), img_number])\n",
    "    shuffle(testing_data)\n",
    "    np.save('test_data.npy', testing_data)\n",
    "    return testing_data"
   ]
  },
  {
   "cell_type": "code",
   "execution_count": 12,
   "metadata": {
    "collapsed": false
   },
   "outputs": [
    {
     "name": "stdout",
     "output_type": "stream",
     "text": [
      "hdf5 is not supported on this machine (please install/reinstall h5py for optimal experience)\n",
      "curses is not supported on this machine (please install/reinstall curses for an optimal experience)\n",
      "WARNING:tensorflow:From c:\\python35\\lib\\site-packages\\tflearn\\initializations.py:119: UniformUnitScaling.__init__ (from tensorflow.python.ops.init_ops) is deprecated and will be removed in a future version.\n",
      "Instructions for updating:\n",
      "Use tf.initializers.variance_scaling instead with distribution=uniform to get equivalent behavior.\n",
      "WARNING:tensorflow:From c:\\python35\\lib\\site-packages\\tflearn\\objectives.py:66: calling reduce_sum (from tensorflow.python.ops.math_ops) with keep_dims is deprecated and will be removed in a future version.\n",
      "Instructions for updating:\n",
      "keep_dims is deprecated, use keepdims instead\n"
     ]
    }
   ],
   "source": [
    "tf.reset_default_graph()\n",
    "conv_network = input_data(shape=[None, image_size, image_size, 1], name='input')\n",
    "\n",
    "conv_network = conv_2d(conv_network, 32, 5, activation='relu')\n",
    "conv_network = max_pool_2d(conv_network, 5)\n",
    "\n",
    "conv_network = conv_2d(conv_network, 64, 5, activation='relu')\n",
    "conv_network = max_pool_2d(conv_network, 5)\n",
    "\n",
    "conv_network = conv_2d(conv_network, 128, 5, activation='relu')\n",
    "conv_network = max_pool_2d(conv_network, 5)\n",
    "\n",
    "conv_network = conv_2d(conv_network, 64, 5, activation='relu')\n",
    "conv_network = max_pool_2d(conv_network, 5)\n",
    "\n",
    "conv_network = conv_2d(conv_network, 32, 5, activation='relu')\n",
    "conv_network = max_pool_2d(conv_network, 5)\n",
    "\n",
    "conv_network = fully_connected(conv_network, 1024, activation='relu')\n",
    "conv_network = dropout(conv_network, 0.8)\n",
    "\n",
    "conv_network = fully_connected(conv_network, 2, activation='softmax')\n",
    "conv_network = regression(conv_network, optimizer='adam', learning_rate=LR, loss='categorical_crossentropy', name='targets')\n",
    "model = tflearn.DNN(conv_network, tensorboard_dir='log')\n"
   ]
  },
  {
   "cell_type": "code",
   "execution_count": 16,
   "metadata": {
    "collapsed": false
   },
   "outputs": [
    {
     "name": "stdout",
     "output_type": "stream",
     "text": [
      "INFO:tensorflow:Restoring parameters from usr/lib/python3/scripts/skin_cancer-0.001-2conv-basic.model\n",
      "Training Step: 2297  | total loss: 0.25741 | time: 8.416s\n",
      "| Adam | epoch: 01| loss: 0.25741 - acc: 0.7477 -- iter: 1372/1500\n",
      "Training Step: 2285  | total loss: 0.27228 | time: 8.748s\n",
      "| Adam | epoch: 02 | loss: 0.27228 - acc: 0.7188 | val_loss: 0.32982 - val_acc: 0.7810 -- iter: 1384/1500\n",
      "--\n"
     ]
    }
   ],
   "source": [
    "if os.path.exists('{}.meta'.format(modelNAME)):\n",
    "    model.load(modelNAME)\n",
    "\n",
    "train = train_data[:-500]\n",
    "test = train_data[-500:]\n",
    "X = np.array([i[0] for i in train]).reshape(-1,image_size,image_size,1)\n",
    "Y = [i[1] for i in train]\n",
    "\n",
    "test_x = np.array([i[0] for i in test]).reshape(-1,image_size,image_size,1)\n",
    "test_y = [i[1] for i in test]\n",
    "\n",
    "\n",
    "model.fit({'input': X}, {'targets': Y}, n_epoch=20, validation_set=({'input': test_x}, {'targets': test_y}), \n",
    "    snapshot_step=500, show_metric=True, run_id=modelNAME)\n",
    "\n",
    "model.save(modelNAME)"
   ]
  },
  {
   "cell_type": "code",
   "execution_count": 18,
   "metadata": {
    "collapsed": false
   },
   "outputs": [
    {
     "name": "stderr",
     "output_type": "stream",
     "text": [
      "100%|██████████████████████████████████████████| 20/20 [00:00<00:00, 51.13it/s]\n"
     ]
    }
   ],
   "source": [
    "test_data = get_test_data()\n",
    "for num, data in enumerate(test_data[:20]):\n",
    "    \n",
    "    img_num = data[1]\n",
    "    img_data = data[0]\n",
    "    orig = img_data\n",
    "    data = img_data.reshape(image_size,image_size,1)\n",
    "    model_out = model.predict([data])[0]\n",
    "    \n",
    "    if np.argmax(model_out) == 1:\n",
    "         str_label='malignant'\n",
    "    else:\n",
    "         str_label='benign'\n",
    "        \n"
   ]
  },
  {
   "cell_type": "code",
   "execution_count": 30,
   "metadata": {
    "collapsed": false
   },
   "outputs": [],
   "source": [
    "Y_true=[i[1] for i in test]\n",
    "\n",
    "Y_pred=[]\n",
    "for num,data in enumerate(test):\n",
    "    img_data = data[0]\n",
    "    orig = img_data\n",
    "    data = img_data.reshape(image_size,image_size,1)\n",
    "    model_out = model.predict([data])[0]\n",
    "    Y_pred.append(model_out)\n",
    "\n",
    "for data in (Y_pred):\n",
    "    if data[0]>0.5: data[0]=int(1)\n",
    "    else: data[0]=int(0)\n",
    "    if data[1]>0.5: data[1]=int(1)\n",
    "    else: data[1]=int(0)\n",
    "y_true=[]\n",
    "y_pred=[]\n",
    "for data in (Y_true):\n",
    "    if(data[0]==1 and data[1]==0):\n",
    "        y_true.append(1)\n",
    "    else: y_true.append(0)\n",
    "\n",
    "for data in (Y_pred):\n",
    "    if(data[0]==1 and data[1]==0):\n",
    "        y_pred.append(1)\n",
    "    else: y_pred.append(0)\n",
    "        \n",
    "\n",
    "confusion_matrix=confusion_matrix(y_true, y_pred)\n"
   ]
  },
  {
   "cell_type": "code",
   "execution_count": 33,
   "metadata": {
    "collapsed": false
   },
   "outputs": [
    {
     "name": "stdout",
     "output_type": "stream",
     "text": [
      "Confusion Matrix\n",
      "      ben  mal\n",
      "ben   270    143      \n",
      "mal   35      52      \n"
     ]
    }
   ],
   "source": [
    "print(\"Confusion Matrix\")\n",
    "print(\"          ben  mal\")\n",
    "for i in (1,0):\n",
    "    if i==1: print(\"ben   \",end=' ')\n",
    "    else: print(\"mal   \",end=' ') \n",
    "    for j in (1,0):\n",
    "        print(confusion_matrix[i][j],end='      ') \n",
    "    print()"
   ]
  },
  {
   "cell_type": "code",
   "execution_count": 35,
   "metadata": {
    "collapsed": false
   },
   "outputs": [
    {
     "name": "stdout",
     "output_type": "stream",
     "text": [
      "Class Benign: Precision and Recall \n",
      "Precision - 0.6453815565467411\n",
      "Recall - 0.6413148951504479\n"
     ]
    }
   ],
   "source": [
    "a=confusion_matrix[1][1]\n",
    "b=confusion_matrix[1][0]\n",
    "c=confusion_matrix[0][1]\n",
    "d=confusion_matrix[0][0]\n",
    "print(\"Class Benign: Precision and Recall\")\n",
    "print(\"Precision - \",end=' ',a/(a+c))\n",
    "print(\"Recall - \",end=' ',a/(a+b))\n"
   ]
  },
  {
   "cell_type": "code",
   "execution_count": 36,
   "metadata": {
    "collapsed": false
   },
   "outputs": [
    {
     "name": "stdout",
     "output_type": "stream",
     "text": [
      "Class Malignant: Precision and Recall\n",
      "Precision - 0.3007107107107107\n",
      "Recall - 0.05467004167821414\n"
     ]
    }
   ],
   "source": [
    "print(\"Class Malignant: Precision and Recall\")\n",
    "print(\"Precision - \",end=' ',b/(b+d))\n",
    "print(\"Recall - \",end=' ',b/(a+b))\n"
   ]
  },
  {
   "cell_type": "code",
   "execution_count": null,
   "metadata": {
    "collapsed": true
   },
   "outputs": [],
   "source": []
  }
 ],
 "metadata": {
  "anaconda-cloud": {},
  "kernelspec": {
   "display_name": "Python [default]",
   "language": "python",
   "name": "python3"
  },
  "language_info": {
   "codemirror_mode": {
    "name": "ipython",
    "version": 3
   },
   "file_extension": ".py",
   "mimetype": "text/x-python",
   "name": "python",
   "nbconvert_exporter": "python",
   "pygments_lexer": "ipython3",
   "version": "3.5.2"
  }
 },
 "nbformat": 4,
 "nbformat_minor": 2
}
