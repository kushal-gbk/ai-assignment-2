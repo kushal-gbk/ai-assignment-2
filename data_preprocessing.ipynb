{
 "cells": [
  {
   "cell_type": "markdown",
   "metadata": {},
   "source": [
    "## GENERATING npy files for Image Segmentation"
   ]
  },
  {
   "cell_type": "code",
   "execution_count": 2,
   "metadata": {
    "collapsed": false
   },
   "outputs": [
    {
     "name": "stderr",
     "output_type": "stream",
     "text": [
      "Using TensorFlow backend.\n"
     ]
    }
   ],
   "source": [
    "import scipy.io as scio\n",
    "import numpy as np    \n",
    "import keras\n",
    "from keras.layers import Activation\n",
    "from keras.layers import Conv2D, MaxPooling2D\n",
    "from keras.models import Model\n",
    "from keras.layers import Input\n",
    "from keras.layers import Add \n",
    "from keras.layers import Reshape\n",
    "from keras import backend as K\n",
    "from keras import regularizers, optimizersfrom keras.callbacks import ReduceLROnPlateau, CSVLogger,EarlyStopping,ModelCheckpointfrom keras.layers import BatchNormalization\n",
    "from keras.layers import UpSampling2D\n",
    "from keras.layers import Concatenate\n",
    "from keras.layers import Lambda \n",
    "from scipy.misc import imsave\n",
    "from scipy import ndimage, misc\n",
    "from numpy import unravel_index\n",
    "from operator import sub\n",
    "from tqdm import tqdm\n",
    "from keras.utils import to_categorical\n",
    "import tensorflow as tf\n",
    "import os\n",
    "import matplotlib.pyplot as plt\n",
    "import math\n",
    "import cv2\n",
    "import re"
   ]
  },
  {
   "cell_type": "code",
   "execution_count": 7,
   "metadata": {
    "collapsed": false
   },
   "outputs": [
    {
     "name": "stderr",
     "output_type": "stream",
     "text": [
      "100%|████████████████████████████████████████| 374/374 [02:24<00:00,  1.55it/s]\n"
     ]
    }
   ],
   "source": [
    "file_root = 'home/kushalgbk/Desktop/acad/ai-asg2/melanoma'\n",
    "mel_images = []\n",
    "for img in tqdm(os.listdir(file_root)):\n",
    "    path = os.path.join(file_root,img)\n",
    "    img = cv2.imread(path)\n",
    "    img = cv2.resize(img, (256,256))\n",
    "    mel_images.append(img)"
   ]
  },
  {
   "cell_type": "code",
   "execution_count": 9,
   "metadata": {
    "collapsed": false
   },
   "outputs": [
    {
     "name": "stderr",
     "output_type": "stream",
     "text": [
      "100%|██████████████████████████████████████| 2000/2000 [02:03<00:00, 15.10it/s]\n"
     ]
    }
   ],
   "source": [
    "file_root = 'home/kushalgbk/Desktop/acad/ai-asg2/gt'\n",
    "grmel_images = []\n",
    "for img in tqdm(os.listdir(file_root)):\n",
    "    path = os.path.join(file_root,img)\n",
    "    img = cv2.imread(path,cv2.IMREAD_GRAYSCALE)\n",
    "    img = cv2.resize(img, (256,256))\n",
    "    grmel_images.append(img)"
   ]
  },
  {
   "cell_type": "code",
   "execution_count": 12,
   "metadata": {
    "collapsed": false
   },
   "outputs": [
    {
     "data": {
      "text/plain": [
       "array([  0,  44,  47,  56,  86,  92,  94,  96,  99, 100, 101, 102, 103,\n",
       "       104, 105, 106, 107, 108, 121, 122, 123, 124, 125, 127, 130, 137,\n",
       "       138, 148, 152, 156, 159, 162, 164, 166, 172, 174, 176, 177, 186,\n",
       "       190, 194, 196, 198, 200, 206, 207, 208, 210, 212, 213, 215, 216,\n",
       "       219, 220, 222, 223, 225, 226, 227, 228, 230, 231, 232, 233, 234,\n",
       "       236, 237, 255], dtype=uint8)"
      ]
     },
     "execution_count": 12,
     "metadata": {},
     "output_type": "execute_result"
    }
   ],
   "source": [
    "np.unique(grmel_images[6])"
   ]
  },
  {
   "cell_type": "code",
   "execution_count": 14,
   "metadata": {
    "collapsed": true
   },
   "outputs": [],
   "source": [
    "ret,thresh_img = cv2.threshold(grmel_images[6],127,255,cv2.THRESH_BINARY)"
   ]
  },
  {
   "cell_type": "code",
   "execution_count": 16,
   "metadata": {
    "collapsed": false
   },
   "outputs": [
    {
     "name": "stderr",
     "output_type": "stream",
     "text": [
      "100%|██████████████████████████████████████| 2000/2000 [01:00<00:00, 37.47it/s]\n"
     ]
    }
   ],
   "source": [
    "file_root = 'home/kushalgbk/Desktop/acad/ai-asg2/gt'\n",
    "grmel_images = []\n",
    "for img in tqdm(os.listdir(file_root)):\n",
    "    path = os.path.join(file_root,img)\n",
    "    img = cv2.imread(path,cv2.IMREAD_GRAYSCALE)\n",
    "    img = cv2.resize(img, (256,256))\n",
    "    ret,img = cv2.threshold(img,127,255,cv2.THRESH_BINARY)\n",
    "    grmel_images.append(img)"
   ]
  },
  {
   "cell_type": "code",
   "execution_count": 19,
   "metadata": {
    "collapsed": true
   },
   "outputs": [],
   "source": [
    "image=grmel_images[0]\n",
    "gt = np.array(grmel_images)\n",
    "gt=gt/255"
   ]
  },
  {
   "cell_type": "code",
   "execution_count": 29,
   "metadata": {
    "collapsed": false
   },
   "outputs": [
    {
     "name": "stderr",
     "output_type": "stream",
     "text": [
      "100%|██████████████████████████████████████| 1626/1626 [06:38<00:00,  4.11it/s]\n"
     ]
    }
   ],
   "source": [
    "file_root = 'home/kushalgbk/Desktop/acad/ai-asg2/other'\n",
    "other_images = []\n",
    "for img in tqdm(os.listdir(file_root)):\n",
    "    path = os.path.join(file_root,img)\n",
    "    img = cv2.imread(path)\n",
    "    img = cv2.resize(img, (256,256))\n",
    "    other_images.append(img)"
   ]
  },
  {
   "cell_type": "code",
   "execution_count": 31,
   "metadata": {
    "collapsed": false
   },
   "outputs": [
    {
     "name": "stderr",
     "output_type": "stream",
     "text": [
      "100%|████████████████████████████████████████████████| 374/374 [00:00<?, ?it/s]\n"
     ]
    }
   ],
   "source": [
    "complete_image=[]\n",
    "for i in tqdm(mel_images):\n",
    "    complete_image.append(i)"
   ]
  },
  {
   "cell_type": "code",
   "execution_count": 32,
   "metadata": {
    "collapsed": false
   },
   "outputs": [
    {
     "name": "stderr",
     "output_type": "stream",
     "text": [
      "100%|██████████████████████████████████| 1626/1626 [00:00<00:00, 811800.77it/s]\n"
     ]
    }
   ],
   "source": [
    "for i in tqdm(other_images):\n",
    "    complete_image.append(i)"
   ]
  },
  {
   "cell_type": "code",
   "execution_count": 34,
   "metadata": {
    "collapsed": true
   },
   "outputs": [],
   "source": [
    "complete_images = np.array(complete_image)"
   ]
  },
  {
   "cell_type": "code",
   "execution_count": 52,
   "metadata": {
    "collapsed": true
   },
   "outputs": [],
   "source": [
    "np.save('home/kushalgbk/Desktop/acad/ai-asg2/gt',gt)\n",
    "np.save('home/kushalgbk/Desktop/acad/ai-asg2/complete_images',complete_images)"
   ]
  }
 ],
 "metadata": {
  "anaconda-cloud": {},
  "kernelspec": {
   "display_name": "Python [default]",
   "language": "python",
   "name": "python3"
  },
  "language_info": {
   "codemirror_mode": {
    "name": "ipython",
    "version": 3
   },
   "file_extension": ".py",
   "mimetype": "text/x-python",
   "name": "python",
   "nbconvert_exporter": "python",
   "pygments_lexer": "ipython3",
   "version": "3.5.2"
  }
 },
 "nbformat": 4,
 "nbformat_minor": 2
}
